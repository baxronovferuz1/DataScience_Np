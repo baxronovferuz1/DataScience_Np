{
  "nbformat": 4,
  "nbformat_minor": 0,
  "metadata": {
    "colab": {
      "provenance": [],
      "gpuType": "T4",
      "authorship_tag": "ABX9TyO9245MGFIygjH39D9oFImp",
      "include_colab_link": true
    },
    "kernelspec": {
      "name": "python3",
      "display_name": "Python 3"
    },
    "language_info": {
      "name": "python"
    },
    "accelerator": "GPU"
  },
  "cells": [
    {
      "cell_type": "markdown",
      "metadata": {
        "id": "view-in-github",
        "colab_type": "text"
      },
      "source": [
        "<a href=\"https://colab.research.google.com/github/baxronovferuz1/DataScience_Np/blob/main/firstjob.ipynb\" target=\"_parent\"><img src=\"https://colab.research.google.com/assets/colab-badge.svg\" alt=\"Open In Colab\"/></a>"
      ]
    },
    {
      "cell_type": "code",
      "execution_count": null,
      "metadata": {
        "colab": {
          "base_uri": "https://localhost:8080/"
        },
        "id": "qiuMpL8WDMy-",
        "outputId": "f101d2ce-0365-4ece-e961-e4653860eaf4"
      },
      "outputs": [
        {
          "output_type": "stream",
          "name": "stdout",
          "text": [
            "hello world,again\n"
          ]
        }
      ],
      "source": [
        "print(\"hello world,again\")"
      ]
    },
    {
      "cell_type": "code",
      "source": [
        "import numpy as np\n",
        "import pandas as pd\n",
        "import matplotlib.pyplot as plt\n",
        "import sklearn\n",
        "import seaborn as sns\n",
        "import torch\n",
        "import tensorflow as tf\n",
        "import keras"
      ],
      "metadata": {
        "id": "9tWOghjUH1WB"
      },
      "execution_count": null,
      "outputs": []
    },
    {
      "cell_type": "code",
      "source": [
        "np.__version__"
      ],
      "metadata": {
        "colab": {
          "base_uri": "https://localhost:8080/",
          "height": 35
        },
        "id": "FkTbSHJMIcwa",
        "outputId": "75fb0dd9-06aa-49af-93f6-f3fadb935056"
      },
      "execution_count": null,
      "outputs": [
        {
          "output_type": "execute_result",
          "data": {
            "text/plain": [
              "'1.26.4'"
            ],
            "application/vnd.google.colaboratory.intrinsic+json": {
              "type": "string"
            }
          },
          "metadata": {},
          "execution_count": 5
        }
      ]
    },
    {
      "cell_type": "code",
      "source": [
        "import torch\n",
        "\n",
        "torch.cuda.is_available()"
      ],
      "metadata": {
        "colab": {
          "base_uri": "https://localhost:8080/"
        },
        "id": "BvwEcclzped-",
        "outputId": "1f56de60-cc16-4930-f3ca-40b3034a3c8a"
      },
      "execution_count": null,
      "outputs": [
        {
          "output_type": "execute_result",
          "data": {
            "text/plain": [
              "True"
            ]
          },
          "metadata": {},
          "execution_count": 1
        }
      ]
    },
    {
      "cell_type": "code",
      "source": [
        "import numpy as np"
      ],
      "metadata": {
        "id": "n45tt942qgKS"
      },
      "execution_count": null,
      "outputs": []
    },
    {
      "cell_type": "code",
      "source": [
        "my_list=list(range(20000)) #normal\n",
        "my_array=np.array(range(20000))  #vektorlashgan\n",
        "\n"
      ],
      "metadata": {
        "id": "M7MisfegIA-G"
      },
      "execution_count": null,
      "outputs": []
    },
    {
      "cell_type": "code",
      "source": [
        "%time for x in range(10): [i*2 for i in my_list]"
      ],
      "metadata": {
        "colab": {
          "base_uri": "https://localhost:8080/"
        },
        "id": "KLbJ04tsIvbv",
        "outputId": "0681c3fe-a6f7-453b-bb76-093f59031f8f"
      },
      "execution_count": null,
      "outputs": [
        {
          "output_type": "stream",
          "name": "stdout",
          "text": [
            "CPU times: user 13.3 ms, sys: 0 ns, total: 13.3 ms\n",
            "Wall time: 13.8 ms\n"
          ]
        }
      ]
    },
    {
      "cell_type": "code",
      "source": [
        "%time for x in range(10): my_array*2"
      ],
      "metadata": {
        "colab": {
          "base_uri": "https://localhost:8080/"
        },
        "id": "cv0aRANFJMl0",
        "outputId": "ad89f02f-5b1b-4559-b309-45aed41a3244"
      },
      "execution_count": null,
      "outputs": [
        {
          "output_type": "stream",
          "name": "stdout",
          "text": [
            "CPU times: user 1.27 ms, sys: 0 ns, total: 1.27 ms\n",
            "Wall time: 3.76 ms\n"
          ]
        }
      ]
    },
    {
      "cell_type": "code",
      "source": [
        "13.8/3.76"
      ],
      "metadata": {
        "colab": {
          "base_uri": "https://localhost:8080/"
        },
        "id": "w3hZAaTXJYm9",
        "outputId": "49b31840-318a-4378-e524-5fb0d6f52ae4"
      },
      "execution_count": null,
      "outputs": [
        {
          "output_type": "execute_result",
          "data": {
            "text/plain": [
              "3.670212765957447"
            ]
          },
          "metadata": {},
          "execution_count": 5
        }
      ]
    },
    {
      "cell_type": "code",
      "source": [
        "import numpy as np"
      ],
      "metadata": {
        "id": "zn3qf67lH1b3"
      },
      "execution_count": null,
      "outputs": []
    },
    {
      "cell_type": "code",
      "source": [
        "list1=[1,4,2,4.5,6,0]\n",
        "arr1=np.array(list1)"
      ],
      "metadata": {
        "id": "In6nG68qJrGK"
      },
      "execution_count": null,
      "outputs": []
    },
    {
      "cell_type": "code",
      "source": [
        "arr1"
      ],
      "metadata": {
        "colab": {
          "base_uri": "https://localhost:8080/"
        },
        "id": "Re549Y66IEMX",
        "outputId": "228f7f29-73f1-4e1b-9423-2088cdabf1d1"
      },
      "execution_count": null,
      "outputs": [
        {
          "output_type": "execute_result",
          "data": {
            "text/plain": [
              "array([1. , 4. , 2. , 4.5, 6. , 0. ])"
            ]
          },
          "metadata": {},
          "execution_count": 4
        }
      ]
    },
    {
      "cell_type": "code",
      "source": [
        "import numpy as np"
      ],
      "metadata": {
        "id": "jLKVbeHNIJkV"
      },
      "execution_count": null,
      "outputs": []
    },
    {
      "cell_type": "code",
      "source": [
        "tuple1=(7,5,3.2,5,8,1)\n",
        "array2=np.array(tuple1)"
      ],
      "metadata": {
        "id": "mbL7pA8uIW1C"
      },
      "execution_count": null,
      "outputs": []
    },
    {
      "cell_type": "code",
      "source": [
        "array2"
      ],
      "metadata": {
        "colab": {
          "base_uri": "https://localhost:8080/"
        },
        "id": "bYKgQidxIdwF",
        "outputId": "a3eabf91-2663-4c56-a952-864f626feb23"
      },
      "execution_count": null,
      "outputs": [
        {
          "output_type": "execute_result",
          "data": {
            "text/plain": [
              "array([7. , 5. , 3.2, 5. , 8. , 1. ])"
            ]
          },
          "metadata": {},
          "execution_count": 7
        }
      ]
    },
    {
      "cell_type": "code",
      "source": [
        "arr1.ndim #ndim-array size"
      ],
      "metadata": {
        "colab": {
          "base_uri": "https://localhost:8080/"
        },
        "id": "mltkz2vHIhXZ",
        "outputId": "dc94be67-2c88-44b7-8521-c6d68688c5d9"
      },
      "execution_count": null,
      "outputs": [
        {
          "output_type": "execute_result",
          "data": {
            "text/plain": [
              "1"
            ]
          },
          "metadata": {},
          "execution_count": 8
        }
      ]
    },
    {
      "cell_type": "code",
      "source": [
        "array2.ndim"
      ],
      "metadata": {
        "colab": {
          "base_uri": "https://localhost:8080/"
        },
        "id": "0kVaiaWdJUeb",
        "outputId": "f0ddb683-c8da-4af8-8016-0d0acaa9cb72"
      },
      "execution_count": null,
      "outputs": [
        {
          "output_type": "execute_result",
          "data": {
            "text/plain": [
              "1"
            ]
          },
          "metadata": {},
          "execution_count": 9
        }
      ]
    },
    {
      "cell_type": "code",
      "source": [
        "import numpy as np"
      ],
      "metadata": {
        "id": "x6ItgmoSKwdi"
      },
      "execution_count": null,
      "outputs": []
    },
    {
      "cell_type": "code",
      "source": [
        "data3=[[1,4,2,5],[7,1,3,8]]\n",
        "arr3=np.array(data3)"
      ],
      "metadata": {
        "id": "kQsEo-xMJXmL"
      },
      "execution_count": null,
      "outputs": []
    },
    {
      "cell_type": "code",
      "source": [
        "arr3"
      ],
      "metadata": {
        "colab": {
          "base_uri": "https://localhost:8080/"
        },
        "id": "waZnu7dYK0qi",
        "outputId": "077706cf-4d25-416c-f61c-0dd45c879ad9"
      },
      "execution_count": null,
      "outputs": [
        {
          "output_type": "execute_result",
          "data": {
            "text/plain": [
              "array([[1, 4, 2, 5],\n",
              "       [7, 1, 3, 8]])"
            ]
          },
          "metadata": {},
          "execution_count": 8
        }
      ]
    },
    {
      "cell_type": "code",
      "source": [
        "arr3.ndim"
      ],
      "metadata": {
        "colab": {
          "base_uri": "https://localhost:8080/"
        },
        "id": "PcmVPMjHLFCe",
        "outputId": "165c492b-3bc5-42e1-9aa9-ad4718d986e4"
      },
      "execution_count": null,
      "outputs": [
        {
          "output_type": "execute_result",
          "data": {
            "text/plain": [
              "2"
            ]
          },
          "metadata": {},
          "execution_count": 9
        }
      ]
    },
    {
      "cell_type": "code",
      "source": [
        "arr3.shape"
      ],
      "metadata": {
        "colab": {
          "base_uri": "https://localhost:8080/"
        },
        "id": "AnKGwjj-Rv9l",
        "outputId": "fe534aad-45e4-477a-a47c-2465a25c84b8"
      },
      "execution_count": null,
      "outputs": [
        {
          "output_type": "execute_result",
          "data": {
            "text/plain": [
              "(2, 4)"
            ]
          },
          "metadata": {},
          "execution_count": 10
        }
      ]
    },
    {
      "cell_type": "code",
      "source": [
        "arr3.size"
      ],
      "metadata": {
        "colab": {
          "base_uri": "https://localhost:8080/"
        },
        "id": "kh5sQPVnSXY5",
        "outputId": "8d74b4fb-b154-4f39-ecc2-7d6db4904595"
      },
      "execution_count": null,
      "outputs": [
        {
          "output_type": "execute_result",
          "data": {
            "text/plain": [
              "8"
            ]
          },
          "metadata": {},
          "execution_count": 11
        }
      ]
    },
    {
      "cell_type": "code",
      "source": [
        "import numpy as np"
      ],
      "metadata": {
        "id": "6WihOmqtSa0N"
      },
      "execution_count": null,
      "outputs": []
    },
    {
      "cell_type": "code",
      "source": [
        "array4=np.zeros((2,4))\n",
        "array4"
      ],
      "metadata": {
        "colab": {
          "base_uri": "https://localhost:8080/"
        },
        "id": "uzTqlrxXTYy4",
        "outputId": "b5826b34-e808-4608-9a9a-e27a1395055c"
      },
      "execution_count": null,
      "outputs": [
        {
          "output_type": "execute_result",
          "data": {
            "text/plain": [
              "array([[0., 0., 0., 0.],\n",
              "       [0., 0., 0., 0.]])"
            ]
          },
          "metadata": {},
          "execution_count": 14
        }
      ]
    },
    {
      "cell_type": "code",
      "source": [
        "array4=np.ones((2,4))\n",
        "array4"
      ],
      "metadata": {
        "colab": {
          "base_uri": "https://localhost:8080/"
        },
        "id": "MHPCDQxEThTk",
        "outputId": "03cbb90a-44dc-4485-e644-a2545b64443d"
      },
      "execution_count": null,
      "outputs": [
        {
          "output_type": "execute_result",
          "data": {
            "text/plain": [
              "array([[1., 1., 1., 1.],\n",
              "       [1., 1., 1., 1.]])"
            ]
          },
          "metadata": {},
          "execution_count": 15
        }
      ]
    },
    {
      "cell_type": "code",
      "source": [
        "arr5=np.array([5,2,9,0,3], dtype=np.float64)\n",
        "arr5"
      ],
      "metadata": {
        "id": "uxf2oA-SUK6-",
        "colab": {
          "base_uri": "https://localhost:8080/"
        },
        "outputId": "53e3741e-0913-432e-e012-cb9e70701057"
      },
      "execution_count": null,
      "outputs": [
        {
          "output_type": "execute_result",
          "data": {
            "text/plain": [
              "array([5., 2., 9., 0., 3.])"
            ]
          },
          "metadata": {},
          "execution_count": 2
        }
      ]
    },
    {
      "cell_type": "code",
      "source": [
        "arr6=np.array([3,2,4,5,8], dtype=np.int32)\n",
        "arr6"
      ],
      "metadata": {
        "colab": {
          "base_uri": "https://localhost:8080/"
        },
        "id": "3Xi4cL5Kgosq",
        "outputId": "585260cc-36ad-4449-ec1e-4877c540d068"
      },
      "execution_count": null,
      "outputs": [
        {
          "output_type": "execute_result",
          "data": {
            "text/plain": [
              "array([3, 2, 4, 5, 8], dtype=int32)"
            ]
          },
          "metadata": {},
          "execution_count": 4
        }
      ]
    },
    {
      "cell_type": "code",
      "source": [
        "arr5.dtype"
      ],
      "metadata": {
        "colab": {
          "base_uri": "https://localhost:8080/"
        },
        "id": "Lk6nRwHug1tW",
        "outputId": "179c2566-4a18-449c-e35d-5fb123c89cb9"
      },
      "execution_count": null,
      "outputs": [
        {
          "output_type": "execute_result",
          "data": {
            "text/plain": [
              "dtype('float64')"
            ]
          },
          "metadata": {},
          "execution_count": 5
        }
      ]
    },
    {
      "cell_type": "code",
      "source": [
        "arr7=np.array([1,2,4,5,6]) #avtomatic -int64 type\n",
        "arr7"
      ],
      "metadata": {
        "colab": {
          "base_uri": "https://localhost:8080/"
        },
        "id": "OL8ythoQhKhg",
        "outputId": "8f88e486-34d4-41bf-8409-6cdd7f1238ce"
      },
      "execution_count": null,
      "outputs": [
        {
          "output_type": "execute_result",
          "data": {
            "text/plain": [
              "array([1, 2, 4, 5, 6])"
            ]
          },
          "metadata": {},
          "execution_count": 3
        }
      ]
    },
    {
      "cell_type": "code",
      "source": [
        "arr7.dtype"
      ],
      "metadata": {
        "colab": {
          "base_uri": "https://localhost:8080/"
        },
        "id": "p9md9iZrhibW",
        "outputId": "fcc441e6-b110-480e-ce1c-7f8dfc3c01be"
      },
      "execution_count": null,
      "outputs": [
        {
          "output_type": "execute_result",
          "data": {
            "text/plain": [
              "dtype('int64')"
            ]
          },
          "metadata": {},
          "execution_count": 7
        }
      ]
    },
    {
      "cell_type": "code",
      "source": [
        "float_array=arr7.astype(np.float64)\n",
        "float_array.dtype"
      ],
      "metadata": {
        "colab": {
          "base_uri": "https://localhost:8080/"
        },
        "id": "VVMlP8gchmg0",
        "outputId": "31605477-57e6-4860-d4b6-86a9889f489a"
      },
      "execution_count": null,
      "outputs": [
        {
          "output_type": "execute_result",
          "data": {
            "text/plain": [
              "dtype('float64')"
            ]
          },
          "metadata": {},
          "execution_count": 4
        }
      ]
    },
    {
      "cell_type": "code",
      "source": [
        "arr8=np.array([1.2,3.2,4.5,6.5])"
      ],
      "metadata": {
        "id": "2-Ci1BFjB8zo"
      },
      "execution_count": null,
      "outputs": []
    },
    {
      "cell_type": "code",
      "source": [
        "arr8.dtype"
      ],
      "metadata": {
        "colab": {
          "base_uri": "https://localhost:8080/"
        },
        "id": "9kHMs3uLDcoi",
        "outputId": "b606cfcb-54fc-435c-8e45-e88c1f1d3ee4"
      },
      "execution_count": null,
      "outputs": [
        {
          "output_type": "execute_result",
          "data": {
            "text/plain": [
              "dtype('float64')"
            ]
          },
          "metadata": {},
          "execution_count": 8
        }
      ]
    },
    {
      "cell_type": "code",
      "source": [
        "int_arr=arr8.astype(np.int64)"
      ],
      "metadata": {
        "id": "WalSLEbMDgKd"
      },
      "execution_count": null,
      "outputs": []
    },
    {
      "cell_type": "code",
      "source": [
        "int_arr.dtype"
      ],
      "metadata": {
        "colab": {
          "base_uri": "https://localhost:8080/"
        },
        "id": "0_SaNL6rDqfe",
        "outputId": "71fc7654-4c9c-4a28-f3ef-78c28ad812d5"
      },
      "execution_count": null,
      "outputs": [
        {
          "output_type": "execute_result",
          "data": {
            "text/plain": [
              "dtype('int64')"
            ]
          },
          "metadata": {},
          "execution_count": 10
        }
      ]
    },
    {
      "cell_type": "code",
      "source": [
        "arr9=np.array([[1,2,3],[4,5,6],[7,8,9]])\n",
        "arr9"
      ],
      "metadata": {
        "colab": {
          "base_uri": "https://localhost:8080/"
        },
        "id": "TtJweTbWDuL4",
        "outputId": "de204e69-2dce-4518-e414-8c5ff87f04e0"
      },
      "execution_count": null,
      "outputs": [
        {
          "output_type": "execute_result",
          "data": {
            "text/plain": [
              "array([[1, 2, 3],\n",
              "       [4, 5, 6],\n",
              "       [7, 8, 9]])"
            ]
          },
          "metadata": {},
          "execution_count": 4
        }
      ]
    },
    {
      "cell_type": "code",
      "source": [
        "arr9[1,1]"
      ],
      "metadata": {
        "colab": {
          "base_uri": "https://localhost:8080/"
        },
        "id": "4fwH_QV0QUSY",
        "outputId": "5dae0a80-1f8d-41cc-8503-6f541b3d2504"
      },
      "execution_count": null,
      "outputs": [
        {
          "output_type": "execute_result",
          "data": {
            "text/plain": [
              "5"
            ]
          },
          "metadata": {},
          "execution_count": 5
        }
      ]
    },
    {
      "cell_type": "code",
      "source": [
        "arr10=arr9[2,1:3]\n",
        "arr10"
      ],
      "metadata": {
        "colab": {
          "base_uri": "https://localhost:8080/"
        },
        "id": "vmp6WVJqSVqS",
        "outputId": "c4f64e7e-52e4-4183-c49f-039a86d3f21d"
      },
      "execution_count": null,
      "outputs": [
        {
          "output_type": "execute_result",
          "data": {
            "text/plain": [
              "array([8, 9])"
            ]
          },
          "metadata": {},
          "execution_count": 7
        }
      ]
    },
    {
      "cell_type": "code",
      "source": [
        "arr10=np.array([\"Ali\",\"Vali\",\"Abdusamad\",\"Hasan\",\"Husan\",\"Bekzod\",\"Shohruh\"])\n"
      ],
      "metadata": {
        "id": "w8zTaTSrVhHc"
      },
      "execution_count": null,
      "outputs": []
    },
    {
      "cell_type": "code",
      "source": [
        "r_data=np.random.randn(7,3)"
      ],
      "metadata": {
        "id": "JgYnXaaLco0z"
      },
      "execution_count": null,
      "outputs": []
    },
    {
      "cell_type": "code",
      "source": [
        "r_data"
      ],
      "metadata": {
        "colab": {
          "base_uri": "https://localhost:8080/"
        },
        "id": "Fny9WeLic41Z",
        "outputId": "4932d396-e6be-49e3-d0ee-f8273c0fe3b2"
      },
      "execution_count": null,
      "outputs": [
        {
          "output_type": "execute_result",
          "data": {
            "text/plain": [
              "array([[ 0.47586549, -0.50118118, -0.30165911],\n",
              "       [ 1.4099227 ,  0.36312282, -1.2895044 ],\n",
              "       [-0.31525302, -1.32834907,  0.26379727],\n",
              "       [ 0.92372834, -1.05435786,  1.74970365],\n",
              "       [-0.23962443, -0.60707214, -1.12318633],\n",
              "       [ 1.28102636,  0.5164728 ,  0.77598974],\n",
              "       [ 1.37305013,  0.13706048,  0.43234968]])"
            ]
          },
          "metadata": {},
          "execution_count": 11
        }
      ]
    },
    {
      "cell_type": "code",
      "source": [
        "r_data[arr10==\"Husan\"]"
      ],
      "metadata": {
        "colab": {
          "base_uri": "https://localhost:8080/"
        },
        "id": "aLwDpkDLc6Jd",
        "outputId": "730ec7d9-0a59-4321-9c18-ef5e99628960"
      },
      "execution_count": null,
      "outputs": [
        {
          "output_type": "execute_result",
          "data": {
            "text/plain": [
              "array([[-0.23962443, -0.60707214, -1.12318633]])"
            ]
          },
          "metadata": {},
          "execution_count": 12
        }
      ]
    },
    {
      "cell_type": "code",
      "source": [
        "r_data[arr10 != \"Vali\"]"
      ],
      "metadata": {
        "colab": {
          "base_uri": "https://localhost:8080/"
        },
        "id": "BI142h-gdVmH",
        "outputId": "9be4ad6a-3ec3-4f7e-9012-171e721c5c91"
      },
      "execution_count": null,
      "outputs": [
        {
          "output_type": "execute_result",
          "data": {
            "text/plain": [
              "array([[ 0.47586549, -0.50118118, -0.30165911],\n",
              "       [-0.31525302, -1.32834907,  0.26379727],\n",
              "       [ 0.92372834, -1.05435786,  1.74970365],\n",
              "       [-0.23962443, -0.60707214, -1.12318633],\n",
              "       [ 1.28102636,  0.5164728 ,  0.77598974],\n",
              "       [ 1.37305013,  0.13706048,  0.43234968]])"
            ]
          },
          "metadata": {},
          "execution_count": 13
        }
      ]
    },
    {
      "cell_type": "code",
      "source": [
        "r_data[~(arr10==\"Bekzod\")]"
      ],
      "metadata": {
        "colab": {
          "base_uri": "https://localhost:8080/"
        },
        "id": "iLoLYaTHeqSc",
        "outputId": "fef62842-1ab5-4ae3-ba10-f6d8068d7da0"
      },
      "execution_count": null,
      "outputs": [
        {
          "output_type": "execute_result",
          "data": {
            "text/plain": [
              "array([[ 0.47586549, -0.50118118, -0.30165911],\n",
              "       [ 1.4099227 ,  0.36312282, -1.2895044 ],\n",
              "       [-0.31525302, -1.32834907,  0.26379727],\n",
              "       [ 0.92372834, -1.05435786,  1.74970365],\n",
              "       [-0.23962443, -0.60707214, -1.12318633],\n",
              "       [ 1.37305013,  0.13706048,  0.43234968]])"
            ]
          },
          "metadata": {},
          "execution_count": 15
        }
      ]
    },
    {
      "cell_type": "code",
      "source": [
        "arr11=(arr10==\"Ali\") | (arr10==\"Vali\")\n",
        "arr11"
      ],
      "metadata": {
        "colab": {
          "base_uri": "https://localhost:8080/"
        },
        "id": "YEDHQ6M3e3M1",
        "outputId": "f50f941a-5b10-4162-9615-d5595b953067"
      },
      "execution_count": null,
      "outputs": [
        {
          "output_type": "execute_result",
          "data": {
            "text/plain": [
              "array([ True,  True, False, False, False, False, False])"
            ]
          },
          "metadata": {},
          "execution_count": 19
        }
      ]
    },
    {
      "cell_type": "code",
      "source": [
        "r_data[arr11]"
      ],
      "metadata": {
        "colab": {
          "base_uri": "https://localhost:8080/"
        },
        "id": "j9kVLvcGgi-h",
        "outputId": "c12c164c-2033-4374-e9ac-02b2230f29fd"
      },
      "execution_count": null,
      "outputs": [
        {
          "output_type": "execute_result",
          "data": {
            "text/plain": [
              "array([[ 0.47586549, -0.50118118, -0.30165911],\n",
              "       [ 1.4099227 ,  0.36312282, -1.2895044 ]])"
            ]
          },
          "metadata": {},
          "execution_count": 20
        }
      ]
    },
    {
      "cell_type": "code",
      "source": [
        "r_data"
      ],
      "metadata": {
        "colab": {
          "base_uri": "https://localhost:8080/"
        },
        "id": "igZwfeJphU1_",
        "outputId": "06805023-dccb-431d-9975-864018da6317"
      },
      "execution_count": null,
      "outputs": [
        {
          "output_type": "execute_result",
          "data": {
            "text/plain": [
              "array([[ 0.47586549, -0.50118118, -0.30165911],\n",
              "       [ 1.4099227 ,  0.36312282, -1.2895044 ],\n",
              "       [-0.31525302, -1.32834907,  0.26379727],\n",
              "       [ 0.92372834, -1.05435786,  1.74970365],\n",
              "       [-0.23962443, -0.60707214, -1.12318633],\n",
              "       [ 1.28102636,  0.5164728 ,  0.77598974],\n",
              "       [ 1.37305013,  0.13706048,  0.43234968]])"
            ]
          },
          "metadata": {},
          "execution_count": 22
        }
      ]
    },
    {
      "cell_type": "code",
      "source": [
        "r_data[r_data<0]"
      ],
      "metadata": {
        "colab": {
          "base_uri": "https://localhost:8080/"
        },
        "id": "hFXCVQI4hZmf",
        "outputId": "7a8d2f6b-686d-45f1-f2a1-0ec7fa6fab80"
      },
      "execution_count": null,
      "outputs": [
        {
          "output_type": "execute_result",
          "data": {
            "text/plain": [
              "array([-0.50118118, -0.30165911, -1.2895044 , -0.31525302, -1.32834907,\n",
              "       -1.05435786, -0.23962443, -0.60707214, -1.12318633])"
            ]
          },
          "metadata": {},
          "execution_count": 23
        }
      ]
    },
    {
      "cell_type": "code",
      "source": [
        "r_data[r_data<0]=0"
      ],
      "metadata": {
        "id": "5mnxb4Dqhtfs"
      },
      "execution_count": null,
      "outputs": []
    },
    {
      "cell_type": "code",
      "source": [
        "r_data"
      ],
      "metadata": {
        "colab": {
          "base_uri": "https://localhost:8080/"
        },
        "id": "BAO_F5xOhxvb",
        "outputId": "03c64411-e6a4-4bf2-bb53-386dd9b5b915"
      },
      "execution_count": null,
      "outputs": [
        {
          "output_type": "execute_result",
          "data": {
            "text/plain": [
              "array([[0.47586549, 0.        , 0.        ],\n",
              "       [1.4099227 , 0.36312282, 0.        ],\n",
              "       [0.        , 0.        , 0.26379727],\n",
              "       [0.92372834, 0.        , 1.74970365],\n",
              "       [0.        , 0.        , 0.        ],\n",
              "       [1.28102636, 0.5164728 , 0.77598974],\n",
              "       [1.37305013, 0.13706048, 0.43234968]])"
            ]
          },
          "metadata": {},
          "execution_count": 25
        }
      ]
    },
    {
      "cell_type": "code",
      "source": [
        "arr12=np.arange(6).reshape(3,2)"
      ],
      "metadata": {
        "id": "fSEL7E_5hy4m"
      },
      "execution_count": null,
      "outputs": []
    },
    {
      "cell_type": "code",
      "source": [
        "arr12"
      ],
      "metadata": {
        "colab": {
          "base_uri": "https://localhost:8080/"
        },
        "id": "XnBRWpWGsRrR",
        "outputId": "1c77032d-a155-4f6e-a66c-908bba2e58ca"
      },
      "execution_count": null,
      "outputs": [
        {
          "output_type": "execute_result",
          "data": {
            "text/plain": [
              "array([[0, 1],\n",
              "       [2, 3],\n",
              "       [4, 5]])"
            ]
          },
          "metadata": {},
          "execution_count": 29
        }
      ]
    },
    {
      "cell_type": "code",
      "source": [
        "arr12.T #Transpose"
      ],
      "metadata": {
        "colab": {
          "base_uri": "https://localhost:8080/"
        },
        "id": "1U5A3XBDsTFl",
        "outputId": "7dcc4514-ed50-4615-d8ce-ff6fa7020689"
      },
      "execution_count": null,
      "outputs": [
        {
          "output_type": "execute_result",
          "data": {
            "text/plain": [
              "array([[0, 2, 4],\n",
              "       [1, 3, 5]])"
            ]
          },
          "metadata": {},
          "execution_count": 30
        }
      ]
    },
    {
      "cell_type": "code",
      "source": [
        "np.dot(arr12,arr12.T)"
      ],
      "metadata": {
        "colab": {
          "base_uri": "https://localhost:8080/"
        },
        "id": "aPImbYKKsrgy",
        "outputId": "a24a0f4d-4286-4161-a423-ebca59851e92"
      },
      "execution_count": null,
      "outputs": [
        {
          "output_type": "execute_result",
          "data": {
            "text/plain": [
              "array([[ 1,  3,  5],\n",
              "       [ 3, 13, 23],\n",
              "       [ 5, 23, 41]])"
            ]
          },
          "metadata": {},
          "execution_count": 31
        }
      ]
    },
    {
      "cell_type": "code",
      "source": [
        "import numpy as np"
      ],
      "metadata": {
        "id": "58ToXl-Ou845"
      },
      "execution_count": null,
      "outputs": []
    },
    {
      "cell_type": "code",
      "source": [
        "arr13=np.arange(8)"
      ],
      "metadata": {
        "id": "_FkFuyGxTYDw"
      },
      "execution_count": null,
      "outputs": []
    },
    {
      "cell_type": "code",
      "source": [
        "np.sqrt(arr13) #Unary-sqrt,square,exp,log,modf,sign,isnan"
      ],
      "metadata": {
        "colab": {
          "base_uri": "https://localhost:8080/"
        },
        "id": "VMnkWErmTfVS",
        "outputId": "93c90613-f474-4dd0-c768-58672eb1f528"
      },
      "execution_count": null,
      "outputs": [
        {
          "output_type": "execute_result",
          "data": {
            "text/plain": [
              "array([0.        , 1.        , 1.41421356, 1.73205081, 2.        ,\n",
              "       2.23606798, 2.44948974, 2.64575131])"
            ]
          },
          "metadata": {},
          "execution_count": 3
        }
      ]
    },
    {
      "cell_type": "code",
      "source": [
        "np.square(arr13)"
      ],
      "metadata": {
        "colab": {
          "base_uri": "https://localhost:8080/"
        },
        "id": "nUheSvbHTkun",
        "outputId": "54855715-6e23-4580-ceae-84acdd5f4526"
      },
      "execution_count": null,
      "outputs": [
        {
          "output_type": "execute_result",
          "data": {
            "text/plain": [
              "array([ 0,  1,  4,  9, 16, 25, 36, 49])"
            ]
          },
          "metadata": {},
          "execution_count": 4
        }
      ]
    },
    {
      "cell_type": "code",
      "source": [
        "np.exp(arr13)"
      ],
      "metadata": {
        "colab": {
          "base_uri": "https://localhost:8080/"
        },
        "id": "OaleI7g5TwcT",
        "outputId": "1da69efa-cfb1-4f0f-9d52-ce2418d01c65"
      },
      "execution_count": null,
      "outputs": [
        {
          "output_type": "execute_result",
          "data": {
            "text/plain": [
              "array([1.00000000e+00, 2.71828183e+00, 7.38905610e+00, 2.00855369e+01,\n",
              "       5.45981500e+01, 1.48413159e+02, 4.03428793e+02, 1.09663316e+03])"
            ]
          },
          "metadata": {},
          "execution_count": 5
        }
      ]
    },
    {
      "cell_type": "code",
      "source": [
        "np.log(arr13)"
      ],
      "metadata": {
        "colab": {
          "base_uri": "https://localhost:8080/"
        },
        "id": "3LTQ6Ph3VEj-",
        "outputId": "8bb3c754-1cbd-4081-f43c-9fcd5c181876"
      },
      "execution_count": null,
      "outputs": [
        {
          "output_type": "stream",
          "name": "stderr",
          "text": [
            "<ipython-input-6-807d863ebc7e>:1: RuntimeWarning: divide by zero encountered in log\n",
            "  np.log(arr13)\n"
          ]
        },
        {
          "output_type": "execute_result",
          "data": {
            "text/plain": [
              "array([      -inf, 0.        , 0.69314718, 1.09861229, 1.38629436,\n",
              "       1.60943791, 1.79175947, 1.94591015])"
            ]
          },
          "metadata": {},
          "execution_count": 6
        }
      ]
    },
    {
      "cell_type": "code",
      "source": [
        "np.log(arr13[1:])"
      ],
      "metadata": {
        "colab": {
          "base_uri": "https://localhost:8080/"
        },
        "id": "ICYR4maGVJTz",
        "outputId": "3b24a3d5-c628-4988-d91a-d8ebb9324c70"
      },
      "execution_count": null,
      "outputs": [
        {
          "output_type": "execute_result",
          "data": {
            "text/plain": [
              "array([0.        , 0.69314718, 1.09861229, 1.38629436, 1.60943791,\n",
              "       1.79175947, 1.94591015])"
            ]
          },
          "metadata": {},
          "execution_count": 7
        }
      ]
    },
    {
      "cell_type": "code",
      "source": [
        "arr14=np.random.randn(5)\n",
        "arr14"
      ],
      "metadata": {
        "colab": {
          "base_uri": "https://localhost:8080/"
        },
        "id": "-zMwVUnOVOEf",
        "outputId": "5646ce43-ae45-448d-950e-2529604c41cd"
      },
      "execution_count": null,
      "outputs": [
        {
          "output_type": "execute_result",
          "data": {
            "text/plain": [
              "array([-1.2019784 ,  0.87481513,  0.25801803, -0.78428618,  0.19160698])"
            ]
          },
          "metadata": {},
          "execution_count": 8
        }
      ]
    },
    {
      "cell_type": "code",
      "source": [
        "b_arr,q_arr=np.modf(arr14)"
      ],
      "metadata": {
        "id": "PckdSHs4VXDp"
      },
      "execution_count": null,
      "outputs": []
    },
    {
      "cell_type": "code",
      "source": [
        "print(b_arr)\n",
        "print(q_arr)"
      ],
      "metadata": {
        "colab": {
          "base_uri": "https://localhost:8080/"
        },
        "id": "1JBJ-WTzVncX",
        "outputId": "1bb7e5c1-94fe-4655-8a17-781772b4135d"
      },
      "execution_count": null,
      "outputs": [
        {
          "output_type": "stream",
          "name": "stdout",
          "text": [
            "[-0.2019784   0.87481513  0.25801803 -0.78428618  0.19160698]\n",
            "[-1.  0.  0. -0.  0.]\n"
          ]
        }
      ]
    },
    {
      "cell_type": "code",
      "source": [
        "np.sign(arr14)"
      ],
      "metadata": {
        "colab": {
          "base_uri": "https://localhost:8080/"
        },
        "id": "J-c9gGcaVraI",
        "outputId": "203f4a54-0d7f-47d8-e621-9792ce46955a"
      },
      "execution_count": null,
      "outputs": [
        {
          "output_type": "execute_result",
          "data": {
            "text/plain": [
              "array([-1.,  1.,  1., -1.,  1.])"
            ]
          },
          "metadata": {},
          "execution_count": 11
        }
      ]
    },
    {
      "cell_type": "code",
      "source": [
        "np.isnan(arr14)"
      ],
      "metadata": {
        "colab": {
          "base_uri": "https://localhost:8080/"
        },
        "id": "926Zsr-iWpM0",
        "outputId": "d244d7c9-685e-4417-9959-982b49a1d555"
      },
      "execution_count": null,
      "outputs": [
        {
          "output_type": "execute_result",
          "data": {
            "text/plain": [
              "array([False, False, False, False, False])"
            ]
          },
          "metadata": {},
          "execution_count": 12
        }
      ]
    },
    {
      "cell_type": "code",
      "source": [
        "arr14[1]=np.NaN"
      ],
      "metadata": {
        "id": "0mKyAySnWxXS"
      },
      "execution_count": null,
      "outputs": []
    },
    {
      "cell_type": "code",
      "source": [
        "np.isnan(arr14)"
      ],
      "metadata": {
        "colab": {
          "base_uri": "https://localhost:8080/"
        },
        "id": "WU0yvZ-oW5uU",
        "outputId": "e9d8f38c-64d4-431b-b71d-bb81db8f8a38"
      },
      "execution_count": null,
      "outputs": [
        {
          "output_type": "execute_result",
          "data": {
            "text/plain": [
              "array([False,  True, False, False, False])"
            ]
          },
          "metadata": {},
          "execution_count": 14
        }
      ]
    },
    {
      "cell_type": "code",
      "source": [
        "arr15=np.random.randn(5)\n",
        "arr16=np.random.randn(5)"
      ],
      "metadata": {
        "id": "h5kHsAotXAys"
      },
      "execution_count": null,
      "outputs": []
    },
    {
      "cell_type": "code",
      "source": [
        "np.add(arr15,arr16) #Binary-add,multiply,maximum..."
      ],
      "metadata": {
        "colab": {
          "base_uri": "https://localhost:8080/"
        },
        "id": "iHJX4knhaLpT",
        "outputId": "6cecb2f3-49b0-4e39-b770-2fbba635d134"
      },
      "execution_count": null,
      "outputs": [
        {
          "output_type": "execute_result",
          "data": {
            "text/plain": [
              "array([-0.67949659, -0.57622437,  2.35193888,  1.00664985, -2.30427755])"
            ]
          },
          "metadata": {},
          "execution_count": 16
        }
      ]
    },
    {
      "cell_type": "code",
      "source": [
        "arr15+arr16"
      ],
      "metadata": {
        "colab": {
          "base_uri": "https://localhost:8080/"
        },
        "id": "7zesDSCAaPJl",
        "outputId": "61d88ac8-8d6b-4a2b-c672-776a514b60c2"
      },
      "execution_count": null,
      "outputs": [
        {
          "output_type": "execute_result",
          "data": {
            "text/plain": [
              "array([-0.67949659, -0.57622437,  2.35193888,  1.00664985, -2.30427755])"
            ]
          },
          "metadata": {},
          "execution_count": 17
        }
      ]
    },
    {
      "cell_type": "code",
      "source": [
        "np.multiply(arr15,arr16)"
      ],
      "metadata": {
        "colab": {
          "base_uri": "https://localhost:8080/"
        },
        "id": "3i7Rl2g1aSSt",
        "outputId": "709f2d56-8e7c-4254-f0ad-142ff106f1bc"
      },
      "execution_count": null,
      "outputs": [
        {
          "output_type": "execute_result",
          "data": {
            "text/plain": [
              "array([-0.7632123 , -0.81743198,  0.64796804, -0.56725696, -0.48232697])"
            ]
          },
          "metadata": {},
          "execution_count": 18
        }
      ]
    },
    {
      "cell_type": "code",
      "source": [
        "np.maximum(arr15,arr16)"
      ],
      "metadata": {
        "colab": {
          "base_uri": "https://localhost:8080/"
        },
        "id": "j4eZGOkZaY5z",
        "outputId": "3952c1ca-08d0-4acd-b11a-20699f4143e3"
      },
      "execution_count": null,
      "outputs": [
        {
          "output_type": "execute_result",
          "data": {
            "text/plain": [
              "array([0.59761034, 0.66080331, 2.03325357, 1.40919078, 0.19313099])"
            ]
          },
          "metadata": {},
          "execution_count": 19
        }
      ]
    },
    {
      "cell_type": "code",
      "source": [
        "arr15"
      ],
      "metadata": {
        "colab": {
          "base_uri": "https://localhost:8080/"
        },
        "id": "Tb96eioIaqUx",
        "outputId": "91f7fca3-2e04-43b9-ee18-c8195ebbdbcd"
      },
      "execution_count": null,
      "outputs": [
        {
          "output_type": "execute_result",
          "data": {
            "text/plain": [
              "array([ 0.59761034, -1.23702768,  2.03325357,  1.40919078, -2.49740853])"
            ]
          },
          "metadata": {},
          "execution_count": 20
        }
      ]
    },
    {
      "cell_type": "code",
      "source": [
        "arr16"
      ],
      "metadata": {
        "colab": {
          "base_uri": "https://localhost:8080/"
        },
        "id": "TcIsBlpnatbj",
        "outputId": "2275f2d9-8eb1-4ad9-b7e8-49ed17fa13f4"
      },
      "execution_count": null,
      "outputs": [
        {
          "output_type": "execute_result",
          "data": {
            "text/plain": [
              "array([-1.27710692,  0.66080331,  0.31868531, -0.40254092,  0.19313099])"
            ]
          },
          "metadata": {},
          "execution_count": 21
        }
      ]
    },
    {
      "cell_type": "code",
      "source": [
        "x_arr=np.array([1.1,1.2,1.3,1.4,1.5])\n",
        "y_arr=np.array([2.1,2.2,2.3,2.4,2.5])\n"
      ],
      "metadata": {
        "id": "Vquz9tWIavhq"
      },
      "execution_count": null,
      "outputs": []
    },
    {
      "cell_type": "code",
      "source": [
        "cond=np.array([True,False,True,True,False])"
      ],
      "metadata": {
        "id": "6TW4c4zXcVFy"
      },
      "execution_count": null,
      "outputs": []
    },
    {
      "cell_type": "code",
      "source": [
        "r_arr=np.where(cond,x_arr,y_arr)\n",
        "r_arr"
      ],
      "metadata": {
        "colab": {
          "base_uri": "https://localhost:8080/"
        },
        "id": "FIvpnNc6ciwM",
        "outputId": "64dec958-1861-4da0-9f92-369d6232b63b"
      },
      "execution_count": null,
      "outputs": [
        {
          "output_type": "execute_result",
          "data": {
            "text/plain": [
              "array([1.1, 2.2, 1.3, 1.4, 2.5])"
            ]
          },
          "metadata": {},
          "execution_count": 26
        }
      ]
    },
    {
      "cell_type": "code",
      "source": [
        "arr=np.random.randn(3,3)\n",
        "arr"
      ],
      "metadata": {
        "colab": {
          "base_uri": "https://localhost:8080/"
        },
        "id": "dyT0quSsc34d",
        "outputId": "af989461-535e-45cd-fe92-f307e58ffd43"
      },
      "execution_count": null,
      "outputs": [
        {
          "output_type": "execute_result",
          "data": {
            "text/plain": [
              "array([[ 1.97028118,  0.14300352,  0.52961907],\n",
              "       [-0.2465072 , -0.09380681,  0.62256699],\n",
              "       [ 1.46297638,  0.09431839,  0.39675445]])"
            ]
          },
          "metadata": {},
          "execution_count": 29
        }
      ]
    },
    {
      "cell_type": "code",
      "source": [
        "result=np.where(arr<0,-1,1)\n",
        "result"
      ],
      "metadata": {
        "colab": {
          "base_uri": "https://localhost:8080/"
        },
        "id": "hsX7HccGdxil",
        "outputId": "b7c1263c-f5af-49c3-c42b-84360123c163"
      },
      "execution_count": null,
      "outputs": [
        {
          "output_type": "execute_result",
          "data": {
            "text/plain": [
              "array([[ 1,  1,  1],\n",
              "       [-1, -1,  1],\n",
              "       [ 1,  1,  1]])"
            ]
          },
          "metadata": {},
          "execution_count": 30
        }
      ]
    },
    {
      "cell_type": "code",
      "source": [
        "arr17=np.random.randn(6,4)\n",
        "arr17"
      ],
      "metadata": {
        "id": "pGM065DaeDJg",
        "colab": {
          "base_uri": "https://localhost:8080/"
        },
        "outputId": "006de48b-9a43-42fd-b380-5372a328ef2c"
      },
      "execution_count": null,
      "outputs": [
        {
          "output_type": "execute_result",
          "data": {
            "text/plain": [
              "array([[-0.24332698, -1.53945971, -0.51911703,  0.06716126],\n",
              "       [-1.32102032,  0.81448664, -0.44454831,  0.0097889 ],\n",
              "       [ 0.19907587, -0.56617042, -0.39279017,  1.03718558],\n",
              "       [ 1.10382281,  0.05465317,  0.80834391,  1.33934714],\n",
              "       [-1.68169702,  0.37352933,  1.11895168,  0.9918056 ],\n",
              "       [-0.41669942, -1.1587718 ,  0.55296736, -2.10538208]])"
            ]
          },
          "metadata": {},
          "execution_count": 2
        }
      ]
    },
    {
      "cell_type": "code",
      "source": [
        "arr17.sum()"
      ],
      "metadata": {
        "colab": {
          "base_uri": "https://localhost:8080/"
        },
        "id": "yPIuZeXhlHk3",
        "outputId": "b2b55b3a-93a7-474f-992f-cf563c334715"
      },
      "execution_count": null,
      "outputs": [
        {
          "output_type": "execute_result",
          "data": {
            "text/plain": [
              "5.544569559166768"
            ]
          },
          "metadata": {},
          "execution_count": 6
        }
      ]
    },
    {
      "cell_type": "code",
      "source": [
        "arr17.sum(axis=1) #by row"
      ],
      "metadata": {
        "colab": {
          "base_uri": "https://localhost:8080/"
        },
        "id": "6OQxpCRClUEe",
        "outputId": "08f02c9f-3dda-44ec-e7de-d2e6b97ef875"
      },
      "execution_count": null,
      "outputs": [
        {
          "output_type": "execute_result",
          "data": {
            "text/plain": [
              "array([ 0.34614457,  0.34245171,  0.24698038,  2.36459896, -0.73338571,\n",
              "        2.97777964])"
            ]
          },
          "metadata": {},
          "execution_count": 8
        }
      ]
    },
    {
      "cell_type": "code",
      "source": [
        "arr17.sum(axis=0) #by column"
      ],
      "metadata": {
        "colab": {
          "base_uri": "https://localhost:8080/"
        },
        "id": "2lvF_x29lerv",
        "outputId": "faf6590f-6513-4094-f910-257bfd92ea37"
      },
      "execution_count": null,
      "outputs": [
        {
          "output_type": "execute_result",
          "data": {
            "text/plain": [
              "array([ 0.13381732,  6.75976002, -1.03574966, -0.31325812])"
            ]
          },
          "metadata": {},
          "execution_count": 9
        }
      ]
    },
    {
      "cell_type": "code",
      "source": [
        "np.mean(arr17)"
      ],
      "metadata": {
        "colab": {
          "base_uri": "https://localhost:8080/"
        },
        "id": "jXt-P2xgl8_D",
        "outputId": "fce793e7-325e-49d9-da95-8bee96c00a63"
      },
      "execution_count": null,
      "outputs": [
        {
          "output_type": "execute_result",
          "data": {
            "text/plain": [
              "-0.07991100015101295"
            ]
          },
          "metadata": {},
          "execution_count": 3
        }
      ]
    },
    {
      "cell_type": "code",
      "source": [
        "arr17.mean()"
      ],
      "metadata": {
        "colab": {
          "base_uri": "https://localhost:8080/"
        },
        "id": "ChLQ1sATXhmx",
        "outputId": "86bc2432-35cd-4239-df43-ad67ca795688"
      },
      "execution_count": null,
      "outputs": [
        {
          "output_type": "execute_result",
          "data": {
            "text/plain": [
              "-0.07991100015101295"
            ]
          },
          "metadata": {},
          "execution_count": 4
        }
      ]
    },
    {
      "cell_type": "code",
      "source": [
        "arr17.mean(axis=1)"
      ],
      "metadata": {
        "colab": {
          "base_uri": "https://localhost:8080/"
        },
        "id": "MznrpOaOXkrf",
        "outputId": "1ffb72d1-7917-4e05-b4c8-1546d77158ff"
      },
      "execution_count": null,
      "outputs": [
        {
          "output_type": "execute_result",
          "data": {
            "text/plain": [
              "array([-0.55868561, -0.23532327,  0.06932521,  0.82654176,  0.2006474 ,\n",
              "       -0.78197149])"
            ]
          },
          "metadata": {},
          "execution_count": 5
        }
      ]
    },
    {
      "cell_type": "code",
      "source": [
        "arr17.mean(axis=0)"
      ],
      "metadata": {
        "colab": {
          "base_uri": "https://localhost:8080/"
        },
        "id": "Jwf0KsuZXrXP",
        "outputId": "17eade5a-79a4-49e3-f680-f861ad9c9d05"
      },
      "execution_count": null,
      "outputs": [
        {
          "output_type": "execute_result",
          "data": {
            "text/plain": [
              "array([-0.39330751, -0.33695546,  0.18730124,  0.22331773])"
            ]
          },
          "metadata": {},
          "execution_count": 6
        }
      ]
    },
    {
      "cell_type": "code",
      "source": [
        "arr18=np.arange(6)\n",
        "arr18"
      ],
      "metadata": {
        "colab": {
          "base_uri": "https://localhost:8080/"
        },
        "id": "OStn8_MVYFo9",
        "outputId": "c6f717b2-af61-4908-ecdf-db33035dcf3b"
      },
      "execution_count": null,
      "outputs": [
        {
          "output_type": "execute_result",
          "data": {
            "text/plain": [
              "array([0, 1, 2, 3, 4, 5])"
            ]
          },
          "metadata": {},
          "execution_count": 7
        }
      ]
    },
    {
      "cell_type": "code",
      "source": [
        "arr18.cumsum()"
      ],
      "metadata": {
        "colab": {
          "base_uri": "https://localhost:8080/"
        },
        "id": "8ldOltSKZvYC",
        "outputId": "4772e009-d4cd-4af5-c549-90e33ed5bd23"
      },
      "execution_count": null,
      "outputs": [
        {
          "output_type": "execute_result",
          "data": {
            "text/plain": [
              "array([ 0,  1,  3,  6, 10, 15])"
            ]
          },
          "metadata": {},
          "execution_count": 8
        }
      ]
    },
    {
      "cell_type": "code",
      "source": [
        "arr19=np.random.randn(6)\n",
        "arr19"
      ],
      "metadata": {
        "colab": {
          "base_uri": "https://localhost:8080/"
        },
        "id": "07Q4bvI9ZyDM",
        "outputId": "15f90790-8d18-4ddc-c7f7-5d94090e3186"
      },
      "execution_count": null,
      "outputs": [
        {
          "output_type": "execute_result",
          "data": {
            "text/plain": [
              "array([-0.52103461,  0.93784467, -0.43476107,  2.03529266, -0.18894129,\n",
              "       -0.67234901])"
            ]
          },
          "metadata": {},
          "execution_count": 9
        }
      ]
    },
    {
      "cell_type": "code",
      "source": [
        "sort_arr=np.sort(arr19)\n",
        "sort_arr"
      ],
      "metadata": {
        "colab": {
          "base_uri": "https://localhost:8080/"
        },
        "id": "1aU59pDbdGmU",
        "outputId": "ed64c4f2-2c8a-408c-f4ec-260b134d87ca"
      },
      "execution_count": null,
      "outputs": [
        {
          "output_type": "execute_result",
          "data": {
            "text/plain": [
              "array([-0.67234901, -0.52103461, -0.43476107, -0.18894129,  0.93784467,\n",
              "        2.03529266])"
            ]
          },
          "metadata": {},
          "execution_count": 11
        }
      ]
    },
    {
      "cell_type": "code",
      "source": [
        "reverse_sort=-np.sort(-arr19) #reverse sort"
      ],
      "metadata": {
        "id": "HgiAMUV4dQ3J"
      },
      "execution_count": null,
      "outputs": []
    },
    {
      "cell_type": "code",
      "source": [
        "reverse_sort"
      ],
      "metadata": {
        "colab": {
          "base_uri": "https://localhost:8080/"
        },
        "id": "63zJG7_ldl1r",
        "outputId": "391b48d3-d2ca-4a1d-9aaa-2ebe62c66ed0"
      },
      "execution_count": null,
      "outputs": [
        {
          "output_type": "execute_result",
          "data": {
            "text/plain": [
              "array([ 2.03529266,  0.93784467, -0.18894129, -0.43476107, -0.52103461,\n",
              "       -0.67234901])"
            ]
          },
          "metadata": {},
          "execution_count": 13
        }
      ]
    },
    {
      "cell_type": "code",
      "source": [
        "arr20=np.random.randn(3,4)\n",
        "arr20"
      ],
      "metadata": {
        "colab": {
          "base_uri": "https://localhost:8080/"
        },
        "id": "ZdHrjtI_dnnl",
        "outputId": "c5e2e548-3e87-42a7-bbb7-60c60ee27fdb"
      },
      "execution_count": null,
      "outputs": [
        {
          "output_type": "execute_result",
          "data": {
            "text/plain": [
              "array([[-0.80863969,  0.86943897,  0.3678431 , -0.30254195],\n",
              "       [ 0.24058725,  0.64709697,  0.86422134, -0.90795647],\n",
              "       [ 0.47389365, -0.51628005,  0.67993507,  0.30687938]])"
            ]
          },
          "metadata": {},
          "execution_count": 15
        }
      ]
    },
    {
      "cell_type": "code",
      "source": [
        "row_sort=np.sort(arr20,axis=0)\n",
        "row_sort"
      ],
      "metadata": {
        "colab": {
          "base_uri": "https://localhost:8080/"
        },
        "id": "1N7p4SWaekt6",
        "outputId": "4de601a7-bb97-41ff-8283-00750df57b12"
      },
      "execution_count": null,
      "outputs": [
        {
          "output_type": "execute_result",
          "data": {
            "text/plain": [
              "array([[-0.80863969, -0.51628005,  0.3678431 , -0.90795647],\n",
              "       [ 0.24058725,  0.64709697,  0.67993507, -0.30254195],\n",
              "       [ 0.47389365,  0.86943897,  0.86422134,  0.30687938]])"
            ]
          },
          "metadata": {},
          "execution_count": 16
        }
      ]
    },
    {
      "cell_type": "code",
      "source": [
        "column_sort=np.sort(arr20,axis=0)\n",
        "column_sort"
      ],
      "metadata": {
        "colab": {
          "base_uri": "https://localhost:8080/"
        },
        "id": "d8-SHykse1KL",
        "outputId": "f129567c-0caa-4fb1-c7c5-f26203cb6ca0"
      },
      "execution_count": null,
      "outputs": [
        {
          "output_type": "execute_result",
          "data": {
            "text/plain": [
              "array([[-0.80863969, -0.51628005,  0.3678431 , -0.90795647],\n",
              "       [ 0.24058725,  0.64709697,  0.67993507, -0.30254195],\n",
              "       [ 0.47389365,  0.86943897,  0.86422134,  0.30687938]])"
            ]
          },
          "metadata": {},
          "execution_count": 17
        }
      ]
    },
    {
      "cell_type": "code",
      "source": [
        "arr21=np.array([1,3,2,3,4,8,4,6,1])\n"
      ],
      "metadata": {
        "id": "ViIpAbpYfAbD"
      },
      "execution_count": null,
      "outputs": []
    },
    {
      "cell_type": "code",
      "source": [
        "np.unique(arr21)"
      ],
      "metadata": {
        "colab": {
          "base_uri": "https://localhost:8080/"
        },
        "id": "BFvQ6Vb_gcG6",
        "outputId": "35b29c1c-ae4f-409c-b882-7906a93c140c"
      },
      "execution_count": null,
      "outputs": [
        {
          "output_type": "execute_result",
          "data": {
            "text/plain": [
              "array([1, 2, 3, 4, 6, 8])"
            ]
          },
          "metadata": {},
          "execution_count": 24
        }
      ]
    },
    {
      "cell_type": "code",
      "source": [
        "arr22=np.array([1,3,2,3,4,8,4,6,1])\n",
        "arr23=np.array([0,1,2,3])"
      ],
      "metadata": {
        "id": "V1f5hgNpgzAk"
      },
      "execution_count": null,
      "outputs": []
    },
    {
      "cell_type": "code",
      "source": [
        "result_arr=np.in1d(arr22,arr23)\n",
        "result_arr"
      ],
      "metadata": {
        "colab": {
          "base_uri": "https://localhost:8080/"
        },
        "id": "g4JNHdkQg3vY",
        "outputId": "d9382d6f-100e-4fb1-c314-f102ae60e85a"
      },
      "execution_count": null,
      "outputs": [
        {
          "output_type": "execute_result",
          "data": {
            "text/plain": [
              "array([ True,  True,  True,  True, False, False, False, False,  True])"
            ]
          },
          "metadata": {},
          "execution_count": 27
        }
      ]
    },
    {
      "cell_type": "code",
      "source": [
        "np.setdiff1d(arr22,arr23)"
      ],
      "metadata": {
        "colab": {
          "base_uri": "https://localhost:8080/"
        },
        "id": "gM-Tx85RhPOA",
        "outputId": "de1d6ed3-4a81-4772-867a-87de5827c8ff"
      },
      "execution_count": null,
      "outputs": [
        {
          "output_type": "execute_result",
          "data": {
            "text/plain": [
              "array([4, 6, 8])"
            ]
          },
          "metadata": {},
          "execution_count": 28
        }
      ]
    },
    {
      "cell_type": "code",
      "source": [
        "import numpy as np"
      ],
      "metadata": {
        "id": "BY1j4pqJhyHU"
      },
      "execution_count": null,
      "outputs": []
    },
    {
      "cell_type": "code",
      "source": [
        "arr24=np.arange(10)\n",
        "np.save(\"data\",arr24)\n"
      ],
      "metadata": {
        "id": "23X1aLj-GEjs"
      },
      "execution_count": null,
      "outputs": []
    },
    {
      "cell_type": "code",
      "source": [
        "arr24_=np.load(\"data.npy\")\n",
        "arr24_"
      ],
      "metadata": {
        "id": "ZnFY7dQIGYhK",
        "colab": {
          "base_uri": "https://localhost:8080/"
        },
        "outputId": "af827c81-10c2-4919-ba27-3db32e28d5e6"
      },
      "execution_count": 3,
      "outputs": [
        {
          "output_type": "execute_result",
          "data": {
            "text/plain": [
              "array([0, 1, 2, 3, 4, 5, 6, 7, 8, 9])"
            ]
          },
          "metadata": {},
          "execution_count": 3
        }
      ]
    },
    {
      "cell_type": "code",
      "source": [
        "arr25=np.arange(15)\n"
      ],
      "metadata": {
        "id": "oPoxYhsqGwOG"
      },
      "execution_count": 4,
      "outputs": []
    },
    {
      "cell_type": "code",
      "source": [
        "np.savez(\"array\",a=arr24,b=arr25)\n"
      ],
      "metadata": {
        "id": "ULO8qsbLHYW9"
      },
      "execution_count": 5,
      "outputs": []
    },
    {
      "cell_type": "code",
      "source": [
        "arrays=np.load(\"array.npz\")\n",
        "arrays['a']"
      ],
      "metadata": {
        "colab": {
          "base_uri": "https://localhost:8080/"
        },
        "id": "qMa237spHe9b",
        "outputId": "685096e7-d2c4-4550-b85e-5c99613c12c3"
      },
      "execution_count": 8,
      "outputs": [
        {
          "output_type": "execute_result",
          "data": {
            "text/plain": [
              "array([0, 1, 2, 3, 4, 5, 6, 7, 8, 9])"
            ]
          },
          "metadata": {},
          "execution_count": 8
        }
      ]
    },
    {
      "cell_type": "code",
      "source": [
        "arrays['b']"
      ],
      "metadata": {
        "colab": {
          "base_uri": "https://localhost:8080/"
        },
        "id": "YD-1jn_hIIXK",
        "outputId": "beff53d8-502b-410f-dcda-abc4a10074bc"
      },
      "execution_count": 9,
      "outputs": [
        {
          "output_type": "execute_result",
          "data": {
            "text/plain": [
              "array([ 0,  1,  2,  3,  4,  5,  6,  7,  8,  9, 10, 11, 12, 13, 14])"
            ]
          },
          "metadata": {},
          "execution_count": 9
        }
      ]
    },
    {
      "cell_type": "code",
      "source": [
        "np.savez_compressed(\"array_comp\", a=arr24, b=arr25)"
      ],
      "metadata": {
        "id": "4-QWe6P3Ihaf"
      },
      "execution_count": 10,
      "outputs": []
    },
    {
      "cell_type": "code",
      "source": [],
      "metadata": {
        "id": "0_PbS0CvJEJh"
      },
      "execution_count": null,
      "outputs": []
    }
  ]
}